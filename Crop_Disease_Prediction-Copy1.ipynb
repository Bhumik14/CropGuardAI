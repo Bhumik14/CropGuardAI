{
 "cells": [
  {
   "cell_type": "code",
   "execution_count": 1,
   "id": "510c3288",
   "metadata": {},
   "outputs": [],
   "source": [
    "import tensorflow as tf\n",
    "import numpy as np\n",
    "import pandas as pd\n",
    "import matplotlib.pyplot as plt\n",
    "import seaborn as sns"
   ]
  },
  {
   "cell_type": "code",
   "execution_count": 2,
   "id": "be3bd946",
   "metadata": {},
   "outputs": [],
   "source": [
    "from tensorflow import keras"
   ]
  },
  {
   "cell_type": "markdown",
   "id": "257e97ec",
   "metadata": {},
   "source": [
    "## Image Preprocessing"
   ]
  },
  {
   "cell_type": "code",
   "execution_count": 3,
   "id": "138e463d",
   "metadata": {},
   "outputs": [
    {
     "name": "stdout",
     "output_type": "stream",
     "text": [
      "Found 70295 files belonging to 38 classes.\n"
     ]
    }
   ],
   "source": [
    "training_set = keras.utils.image_dataset_from_directory(\n",
    "    'archive/train',\n",
    "    labels=\"inferred\",\n",
    "    label_mode=\"categorical\",\n",
    "    class_names=None,\n",
    "    color_mode=\"rgb\",\n",
    "    batch_size=32,\n",
    "    image_size=(64, 64),\n",
    "    shuffle=True,\n",
    "    seed=None,\n",
    "    validation_split=None,\n",
    "    subset=None,\n",
    "    interpolation=\"bilinear\",\n",
    "    follow_links=False,\n",
    "    crop_to_aspect_ratio=False,\n",
    "    pad_to_aspect_ratio=False,\n",
    "    verbose=True,\n",
    ")"
   ]
  },
  {
   "cell_type": "markdown",
   "id": "b871d3f2",
   "metadata": {},
   "source": [
    "## Validation Set"
   ]
  },
  {
   "cell_type": "code",
   "execution_count": 4,
   "id": "425854b6",
   "metadata": {},
   "outputs": [
    {
     "name": "stdout",
     "output_type": "stream",
     "text": [
      "Found 17572 files belonging to 38 classes.\n"
     ]
    }
   ],
   "source": [
    "validation_set = keras.utils.image_dataset_from_directory(\n",
    "    'archive/valid',\n",
    "    labels=\"inferred\",\n",
    "    label_mode=\"categorical\",\n",
    "    class_names=None,\n",
    "    color_mode=\"rgb\",\n",
    "    batch_size=32,\n",
    "    image_size=(64, 64),\n",
    "    shuffle=True,\n",
    "    seed=None,\n",
    "    validation_split=None,\n",
    "    subset=None,\n",
    "    interpolation=\"bilinear\",\n",
    "    follow_links=False,\n",
    "    crop_to_aspect_ratio=False,\n",
    "    pad_to_aspect_ratio=False,\n",
    "    verbose=True,\n",
    ")"
   ]
  },
  {
   "cell_type": "code",
   "execution_count": 5,
   "id": "2d2af183",
   "metadata": {},
   "outputs": [
    {
     "name": "stdout",
     "output_type": "stream",
     "text": [
      "tf.Tensor(\n",
      "[[[[114.25 122.25 111.25]\n",
      "   [114.75 122.75 111.75]\n",
      "   [117.25 125.25 114.25]\n",
      "   ...\n",
      "   [145.5  151.5  149.5 ]\n",
      "   [147.   153.   151.  ]\n",
      "   [144.   150.   148.  ]]\n",
      "\n",
      "  [[113.5  121.   111.5 ]\n",
      "   [115.5  123.   113.5 ]\n",
      "   [115.5  123.   113.5 ]\n",
      "   ...\n",
      "   [147.   153.   151.  ]\n",
      "   [146.75 152.75 150.75]\n",
      "   [144.   150.   148.  ]]\n",
      "\n",
      "  [[113.5  120.5  113.5 ]\n",
      "   [113.5  120.5  113.5 ]\n",
      "   [115.75 122.75 115.75]\n",
      "   ...\n",
      "   [146.75 152.75 150.75]\n",
      "   [145.75 151.75 149.75]\n",
      "   [146.   152.   150.  ]]\n",
      "\n",
      "  ...\n",
      "\n",
      "  [[116.75 115.75 111.75]\n",
      "   [121.25 120.25 116.25]\n",
      "   [125.75 124.75 120.75]\n",
      "   ...\n",
      "   [131.5  137.5  135.5 ]\n",
      "   [131.5  137.5  135.5 ]\n",
      "   [130.25 136.25 134.25]]\n",
      "\n",
      "  [[115.75 114.75 110.75]\n",
      "   [120.75 119.75 115.75]\n",
      "   [127.   126.   122.  ]\n",
      "   ...\n",
      "   [134.75 140.75 138.75]\n",
      "   [133.75 139.75 137.75]\n",
      "   [131.   137.   135.  ]]\n",
      "\n",
      "  [[116.25 115.25 111.25]\n",
      "   [117.5  116.5  112.5 ]\n",
      "   [121.   120.   116.  ]\n",
      "   ...\n",
      "   [130.   136.   134.  ]\n",
      "   [132.5  138.5  136.5 ]\n",
      "   [132.5  138.5  136.5 ]]]\n",
      "\n",
      "\n",
      " [[[188.75 185.75 192.75]\n",
      "   [188.5  185.5  192.5 ]\n",
      "   [189.   186.   193.  ]\n",
      "   ...\n",
      "   [187.75 188.75 193.75]\n",
      "   [191.75 192.75 197.75]\n",
      "   [189.75 190.75 195.75]]\n",
      "\n",
      "  [[193.75 190.75 197.75]\n",
      "   [191.5  188.5  195.5 ]\n",
      "   [190.25 187.25 194.25]\n",
      "   ...\n",
      "   [191.75 190.75 196.75]\n",
      "   [182.25 181.25 187.25]\n",
      "   [186.5  185.5  191.5 ]]\n",
      "\n",
      "  [[191.5  188.5  195.5 ]\n",
      "   [187.25 184.25 191.25]\n",
      "   [188.   185.   192.  ]\n",
      "   ...\n",
      "   [182.75 178.75 185.75]\n",
      "   [186.75 182.75 189.75]\n",
      "   [177.   173.   180.  ]]\n",
      "\n",
      "  ...\n",
      "\n",
      "  [[137.5  132.5  139.5 ]\n",
      "   [148.25 143.25 150.25]\n",
      "   [158.25 153.25 160.25]\n",
      "   ...\n",
      "   [150.   147.   154.  ]\n",
      "   [151.75 148.75 155.75]\n",
      "   [160.5  157.5  164.5 ]]\n",
      "\n",
      "  [[134.75 129.75 136.75]\n",
      "   [139.   134.   141.  ]\n",
      "   [151.25 146.25 153.25]\n",
      "   ...\n",
      "   [147.25 144.25 151.25]\n",
      "   [147.5  144.5  151.5 ]\n",
      "   [146.75 143.75 150.75]]\n",
      "\n",
      "  [[144.   139.   146.  ]\n",
      "   [143.75 138.75 145.75]\n",
      "   [131.5  126.5  133.5 ]\n",
      "   ...\n",
      "   [154.25 151.25 158.25]\n",
      "   [142.5  139.5  146.5 ]\n",
      "   [145.25 142.25 149.25]]]\n",
      "\n",
      "\n",
      " [[[255.   252.75 255.  ]\n",
      "   [252.   248.   252.5 ]\n",
      "   [250.25 246.5  250.75]\n",
      "   ...\n",
      "   [253.   253.   253.  ]\n",
      "   [255.   255.   255.  ]\n",
      "   [255.   255.   255.  ]]\n",
      "\n",
      "  [[244.25 240.   245.  ]\n",
      "   [250.   245.75 250.75]\n",
      "   [251.25 247.   251.75]\n",
      "   ...\n",
      "   [254.75 254.75 254.75]\n",
      "   [255.   255.   255.  ]\n",
      "   [255.   255.   255.  ]]\n",
      "\n",
      "  [[254.5  251.75 254.75]\n",
      "   [250.25 246.75 250.75]\n",
      "   [250.25 245.5  251.  ]\n",
      "   ...\n",
      "   [255.   255.   255.  ]\n",
      "   [255.   255.   255.  ]\n",
      "   [255.   255.   255.  ]]\n",
      "\n",
      "  ...\n",
      "\n",
      "  [[255.   255.   255.  ]\n",
      "   [255.   255.   255.  ]\n",
      "   [255.   255.   255.  ]\n",
      "   ...\n",
      "   [255.   255.   255.  ]\n",
      "   [255.   255.   255.  ]\n",
      "   [255.   255.   255.  ]]\n",
      "\n",
      "  [[255.   255.   255.  ]\n",
      "   [255.   255.   255.  ]\n",
      "   [255.   255.   255.  ]\n",
      "   ...\n",
      "   [255.   255.   255.  ]\n",
      "   [255.   255.   255.  ]\n",
      "   [255.   255.   255.  ]]\n",
      "\n",
      "  [[255.   255.   255.  ]\n",
      "   [255.   255.   255.  ]\n",
      "   [255.   255.   255.  ]\n",
      "   ...\n",
      "   [255.   255.   255.  ]\n",
      "   [255.   255.   255.  ]\n",
      "   [255.   255.   255.  ]]]\n",
      "\n",
      "\n",
      " ...\n",
      "\n",
      "\n",
      " [[[122.75 101.75 118.75]\n",
      "   [127.5  106.5  123.5 ]\n",
      "   [128.75 107.75 124.75]\n",
      "   ...\n",
      "   [144.   134.   158.  ]\n",
      "   [146.5  136.5  160.5 ]\n",
      "   [152.75 142.75 166.75]]\n",
      "\n",
      "  [[128.5  107.5  124.5 ]\n",
      "   [133.5  112.5  129.5 ]\n",
      "   [135.75 114.75 131.75]\n",
      "   ...\n",
      "   [140.   130.   154.  ]\n",
      "   [145.25 135.25 159.25]\n",
      "   [147.5  137.5  161.5 ]]\n",
      "\n",
      "  [[134.75 113.75 130.75]\n",
      "   [131.75 110.75 127.75]\n",
      "   [124.25 103.25 120.25]\n",
      "   ...\n",
      "   [145.   135.   159.  ]\n",
      "   [146.5  136.5  160.5 ]\n",
      "   [156.   146.   170.  ]]\n",
      "\n",
      "  ...\n",
      "\n",
      "  [[117.25 103.25 118.25]\n",
      "   [109.75  95.75 110.75]\n",
      "   [111.5   97.5  112.5 ]\n",
      "   ...\n",
      "   [149.25 141.25 162.25]\n",
      "   [145.   137.   158.  ]\n",
      "   [137.75 129.75 150.75]]\n",
      "\n",
      "  [[116.25 102.25 117.25]\n",
      "   [113.5   99.5  114.5 ]\n",
      "   [124.25 110.25 125.25]\n",
      "   ...\n",
      "   [150.25 142.25 163.25]\n",
      "   [149.   141.   162.  ]\n",
      "   [150.75 142.75 163.75]]\n",
      "\n",
      "  [[117.75 103.75 118.75]\n",
      "   [123.75 109.75 124.75]\n",
      "   [120.25 106.25 121.25]\n",
      "   ...\n",
      "   [147.5  139.5  160.5 ]\n",
      "   [155.75 147.75 168.75]\n",
      "   [136.75 128.75 149.75]]]\n",
      "\n",
      "\n",
      " [[[120.75 125.75 119.75]\n",
      "   [118.   123.   117.  ]\n",
      "   [123.75 128.75 122.75]\n",
      "   ...\n",
      "   [144.25 149.25 153.25]\n",
      "   [147.   152.   156.  ]\n",
      "   [138.25 143.25 147.25]]\n",
      "\n",
      "  [[104.   109.   103.  ]\n",
      "   [107.75 112.75 106.75]\n",
      "   [134.   139.   133.  ]\n",
      "   ...\n",
      "   [140.   145.   149.  ]\n",
      "   [144.   149.   153.  ]\n",
      "   [144.25 149.25 153.25]]\n",
      "\n",
      "  [[118.5  123.5  117.5 ]\n",
      "   [113.5  118.5  112.5 ]\n",
      "   [119.75 124.75 118.75]\n",
      "   ...\n",
      "   [141.25 146.25 150.25]\n",
      "   [137.75 142.75 146.75]\n",
      "   [142.   147.   151.  ]]\n",
      "\n",
      "  ...\n",
      "\n",
      "  [[108.   108.   108.  ]\n",
      "   [117.75 117.75 117.75]\n",
      "   [109.75 109.75 109.75]\n",
      "   ...\n",
      "   [131.75 130.75 136.75]\n",
      "   [127.25 126.25 132.25]\n",
      "   [122.75 121.75 127.75]]\n",
      "\n",
      "  [[123.5  123.5  123.5 ]\n",
      "   [ 91.    91.    91.  ]\n",
      "   [109.25 109.25 109.25]\n",
      "   ...\n",
      "   [128.25 127.25 133.25]\n",
      "   [118.25 117.25 123.25]\n",
      "   [127.25 126.25 132.25]]\n",
      "\n",
      "  [[110.5  110.5  110.5 ]\n",
      "   [110.   110.   110.  ]\n",
      "   [115.75 115.75 115.75]\n",
      "   ...\n",
      "   [127.   126.   132.  ]\n",
      "   [120.5  119.5  125.5 ]\n",
      "   [125.75 124.75 130.75]]]\n",
      "\n",
      "\n",
      " [[[ 72.5  112.5  112.5 ]\n",
      "   [ 73.75 114.25 105.25]\n",
      "   [150.5  191.   166.25]\n",
      "   ...\n",
      "   [158.   193.   163.  ]\n",
      "   [165.75 201.75 170.25]\n",
      "   [170.75 206.75 174.5 ]]\n",
      "\n",
      "  [[ 74.   114.   110.  ]\n",
      "   [102.25 142.75 126.75]\n",
      "   [157.   196.25 168.  ]\n",
      "   ...\n",
      "   [184.75 216.25 189.75]\n",
      "   [199.75 223.25 204.5 ]\n",
      "   [211.75 231.25 218.  ]]\n",
      "\n",
      "  [[ 83.   121.   112.5 ]\n",
      "   [139.25 177.75 153.75]\n",
      "   [159.   197.25 161.5 ]\n",
      "   ...\n",
      "   [218.5  238.   222.  ]\n",
      "   [240.5  251.75 244.25]\n",
      "   [246.25 254.25 251.75]]\n",
      "\n",
      "  ...\n",
      "\n",
      "  [[193.25 221.5  218.75]\n",
      "   [150.   182.   175.5 ]\n",
      "   [132.25 169.5  161.  ]\n",
      "   ...\n",
      "   [ 70.5  124.5   94.  ]\n",
      "   [ 68.25 115.5   87.25]\n",
      "   [ 91.25 126.75 102.5 ]]\n",
      "\n",
      "  [[176.25 207.75 201.25]\n",
      "   [144.5  178.   173.5 ]\n",
      "   [127.25 166.75 160.25]\n",
      "   ...\n",
      "   [ 70.   119.5   90.5 ]\n",
      "   [ 79.75 115.75  91.25]\n",
      "   [ 52.    72.    53.  ]]\n",
      "\n",
      "  [[147.25 180.25 171.25]\n",
      "   [135.   170.5  167.5 ]\n",
      "   [120.75 161.75 156.75]\n",
      "   ...\n",
      "   [ 70.   116.5   88.5 ]\n",
      "   [ 99.25 127.75 105.75]\n",
      "   [ 62.75  72.25  56.75]]]], shape=(32, 64, 64, 3), dtype=float32) (32, 64, 64, 3)\n",
      "tf.Tensor(\n",
      "[[0. 0. 0. ... 0. 0. 0.]\n",
      " [0. 0. 0. ... 0. 0. 0.]\n",
      " [0. 0. 0. ... 0. 1. 0.]\n",
      " ...\n",
      " [0. 0. 0. ... 0. 1. 0.]\n",
      " [0. 0. 0. ... 0. 0. 0.]\n",
      " [0. 0. 0. ... 0. 0. 0.]], shape=(32, 38), dtype=float32) (32, 38)\n"
     ]
    }
   ],
   "source": [
    "for x,y in training_set:\n",
    "    print(x,x.shape)\n",
    "    print(y,y.shape)\n",
    "    break"
   ]
  },
  {
   "cell_type": "markdown",
   "id": "fcdd1b8a",
   "metadata": {},
   "source": [
    "## Model Building"
   ]
  },
  {
   "cell_type": "code",
   "execution_count": 6,
   "id": "9af5ddc2",
   "metadata": {},
   "outputs": [],
   "source": [
    "from tensorflow.keras.layers import Dense,Conv2D,MaxPool2D,Flatten,Dropout\n",
    "from tensorflow.keras.models import Sequential"
   ]
  },
  {
   "cell_type": "markdown",
   "id": "4022ee1b",
   "metadata": {},
   "source": [
    "## Removing Loss Function Overshooting Problem"
   ]
  },
  {
   "cell_type": "markdown",
   "id": "cfc1ea12",
   "metadata": {},
   "source": [
    "In the above model, the loss function overshoots in the middle rather than decreasing.\n",
    "Following steps are taken to reduce Overshooting:\n",
    "1. Reducing Learning rate to 0.0001 from 0.001 so we do not miss the lowest loss point.\n",
    "2. Increasing number of neurons in dense layer to 1500 from 1024 coz underfitting could be a problem.\n",
    "3. Dropping some layers using dropout to avoid overfitting and maintaining a balance between over and underfitting.\n",
    "4. Adding more conv2D layers as maybe less features are extracted from the image.\n",
    "\n",
    "Note: Also add remove padding=same from the 2nd convo layers, as padding=same means keep the size of image same as previous, but the above convo layer may have reduced the size of image so it wouldnt consider it."
   ]
  },
  {
   "cell_type": "code",
   "execution_count": 17,
   "id": "6f76e28f",
   "metadata": {},
   "outputs": [],
   "source": [
    "model = Sequential()"
   ]
  },
  {
   "cell_type": "code",
   "execution_count": 18,
   "id": "e6997353",
   "metadata": {},
   "outputs": [
    {
     "name": "stderr",
     "output_type": "stream",
     "text": [
      "/Users/prasannatupe/Anaconda/anaconda3/lib/python3.11/site-packages/keras/src/layers/convolutional/base_conv.py:107: UserWarning: Do not pass an `input_shape`/`input_dim` argument to a layer. When using Sequential models, prefer using an `Input(shape)` object as the first layer in the model instead.\n",
      "  super().__init__(activity_regularizer=activity_regularizer, **kwargs)\n"
     ]
    }
   ],
   "source": [
    "model.add(Conv2D(filters=16,kernel_size=3,padding='same',activation='relu',input_shape=[64,64,3]))\n",
    "model.add(Conv2D(filters=16,kernel_size=3,activation='relu'))\n",
    "model.add(MaxPool2D(pool_size=2,strides=2))"
   ]
  },
  {
   "cell_type": "code",
   "execution_count": 19,
   "id": "dab48cee",
   "metadata": {},
   "outputs": [],
   "source": [
    "model.add(Conv2D(filters=32,kernel_size=3,padding='same',activation='relu'))\n",
    "model.add(Conv2D(filters=32,kernel_size=3,activation='relu'))\n",
    "model.add(MaxPool2D(pool_size=2,strides=2))"
   ]
  },
  {
   "cell_type": "code",
   "execution_count": 20,
   "id": "6947526c",
   "metadata": {},
   "outputs": [],
   "source": [
    "model.add(Flatten())"
   ]
  },
  {
   "cell_type": "code",
   "execution_count": 21,
   "id": "6c93f549",
   "metadata": {},
   "outputs": [],
   "source": [
    "model.add(Dense(units=512,activation='relu'))"
   ]
  },
  {
   "cell_type": "code",
   "execution_count": 22,
   "id": "22788ee9",
   "metadata": {},
   "outputs": [],
   "source": [
    "model.add(Dropout(0.4))"
   ]
  },
  {
   "cell_type": "code",
   "execution_count": 23,
   "id": "c7142bb5",
   "metadata": {},
   "outputs": [],
   "source": [
    "#Output Layer\n",
    "model.add(Dense(units=38,activation='softmax'))\n",
    "#softmax used for categorical type problems, it gives probability of each class and we choose highest probability."
   ]
  },
  {
   "cell_type": "markdown",
   "id": "7e132f43",
   "metadata": {},
   "source": [
    "### Compiling Better Model"
   ]
  },
  {
   "cell_type": "code",
   "execution_count": 24,
   "id": "ee1c81a1",
   "metadata": {},
   "outputs": [],
   "source": [
    "model.compile(optimizer=tf.keras.optimizers.Adam(learning_rate=0.0005),loss='categorical_crossentropy',metrics=['accuracy'])"
   ]
  },
  {
   "cell_type": "code",
   "execution_count": 25,
   "id": "feaccf44",
   "metadata": {},
   "outputs": [
    {
     "data": {
      "text/html": [
       "<pre style=\"white-space:pre;overflow-x:auto;line-height:normal;font-family:Menlo,'DejaVu Sans Mono',consolas,'Courier New',monospace\"><span style=\"font-weight: bold\">Model: \"sequential\"</span>\n",
       "</pre>\n"
      ],
      "text/plain": [
       "\u001b[1mModel: \"sequential\"\u001b[0m\n"
      ]
     },
     "metadata": {},
     "output_type": "display_data"
    },
    {
     "data": {
      "text/html": [
       "<pre style=\"white-space:pre;overflow-x:auto;line-height:normal;font-family:Menlo,'DejaVu Sans Mono',consolas,'Courier New',monospace\">┏━━━━━━━━━━━━━━━━━━━━━━━━━━━━━━━━━┳━━━━━━━━━━━━━━━━━━━━━━━━┳━━━━━━━━━━━━━━━┓\n",
       "┃<span style=\"font-weight: bold\"> Layer (type)                    </span>┃<span style=\"font-weight: bold\"> Output Shape           </span>┃<span style=\"font-weight: bold\">       Param # </span>┃\n",
       "┡━━━━━━━━━━━━━━━━━━━━━━━━━━━━━━━━━╇━━━━━━━━━━━━━━━━━━━━━━━━╇━━━━━━━━━━━━━━━┩\n",
       "│ conv2d (<span style=\"color: #0087ff; text-decoration-color: #0087ff\">Conv2D</span>)                 │ (<span style=\"color: #00d7ff; text-decoration-color: #00d7ff\">None</span>, <span style=\"color: #00af00; text-decoration-color: #00af00\">64</span>, <span style=\"color: #00af00; text-decoration-color: #00af00\">64</span>, <span style=\"color: #00af00; text-decoration-color: #00af00\">16</span>)     │           <span style=\"color: #00af00; text-decoration-color: #00af00\">448</span> │\n",
       "├─────────────────────────────────┼────────────────────────┼───────────────┤\n",
       "│ conv2d_1 (<span style=\"color: #0087ff; text-decoration-color: #0087ff\">Conv2D</span>)               │ (<span style=\"color: #00d7ff; text-decoration-color: #00d7ff\">None</span>, <span style=\"color: #00af00; text-decoration-color: #00af00\">62</span>, <span style=\"color: #00af00; text-decoration-color: #00af00\">62</span>, <span style=\"color: #00af00; text-decoration-color: #00af00\">16</span>)     │         <span style=\"color: #00af00; text-decoration-color: #00af00\">2,320</span> │\n",
       "├─────────────────────────────────┼────────────────────────┼───────────────┤\n",
       "│ max_pooling2d (<span style=\"color: #0087ff; text-decoration-color: #0087ff\">MaxPooling2D</span>)    │ (<span style=\"color: #00d7ff; text-decoration-color: #00d7ff\">None</span>, <span style=\"color: #00af00; text-decoration-color: #00af00\">31</span>, <span style=\"color: #00af00; text-decoration-color: #00af00\">31</span>, <span style=\"color: #00af00; text-decoration-color: #00af00\">16</span>)     │             <span style=\"color: #00af00; text-decoration-color: #00af00\">0</span> │\n",
       "├─────────────────────────────────┼────────────────────────┼───────────────┤\n",
       "│ conv2d_2 (<span style=\"color: #0087ff; text-decoration-color: #0087ff\">Conv2D</span>)               │ (<span style=\"color: #00d7ff; text-decoration-color: #00d7ff\">None</span>, <span style=\"color: #00af00; text-decoration-color: #00af00\">31</span>, <span style=\"color: #00af00; text-decoration-color: #00af00\">31</span>, <span style=\"color: #00af00; text-decoration-color: #00af00\">32</span>)     │         <span style=\"color: #00af00; text-decoration-color: #00af00\">4,640</span> │\n",
       "├─────────────────────────────────┼────────────────────────┼───────────────┤\n",
       "│ conv2d_3 (<span style=\"color: #0087ff; text-decoration-color: #0087ff\">Conv2D</span>)               │ (<span style=\"color: #00d7ff; text-decoration-color: #00d7ff\">None</span>, <span style=\"color: #00af00; text-decoration-color: #00af00\">29</span>, <span style=\"color: #00af00; text-decoration-color: #00af00\">29</span>, <span style=\"color: #00af00; text-decoration-color: #00af00\">32</span>)     │         <span style=\"color: #00af00; text-decoration-color: #00af00\">9,248</span> │\n",
       "├─────────────────────────────────┼────────────────────────┼───────────────┤\n",
       "│ max_pooling2d_1 (<span style=\"color: #0087ff; text-decoration-color: #0087ff\">MaxPooling2D</span>)  │ (<span style=\"color: #00d7ff; text-decoration-color: #00d7ff\">None</span>, <span style=\"color: #00af00; text-decoration-color: #00af00\">14</span>, <span style=\"color: #00af00; text-decoration-color: #00af00\">14</span>, <span style=\"color: #00af00; text-decoration-color: #00af00\">32</span>)     │             <span style=\"color: #00af00; text-decoration-color: #00af00\">0</span> │\n",
       "├─────────────────────────────────┼────────────────────────┼───────────────┤\n",
       "│ flatten (<span style=\"color: #0087ff; text-decoration-color: #0087ff\">Flatten</span>)               │ (<span style=\"color: #00d7ff; text-decoration-color: #00d7ff\">None</span>, <span style=\"color: #00af00; text-decoration-color: #00af00\">6272</span>)           │             <span style=\"color: #00af00; text-decoration-color: #00af00\">0</span> │\n",
       "├─────────────────────────────────┼────────────────────────┼───────────────┤\n",
       "│ dense (<span style=\"color: #0087ff; text-decoration-color: #0087ff\">Dense</span>)                   │ (<span style=\"color: #00d7ff; text-decoration-color: #00d7ff\">None</span>, <span style=\"color: #00af00; text-decoration-color: #00af00\">512</span>)            │     <span style=\"color: #00af00; text-decoration-color: #00af00\">3,211,776</span> │\n",
       "├─────────────────────────────────┼────────────────────────┼───────────────┤\n",
       "│ dropout (<span style=\"color: #0087ff; text-decoration-color: #0087ff\">Dropout</span>)               │ (<span style=\"color: #00d7ff; text-decoration-color: #00d7ff\">None</span>, <span style=\"color: #00af00; text-decoration-color: #00af00\">512</span>)            │             <span style=\"color: #00af00; text-decoration-color: #00af00\">0</span> │\n",
       "├─────────────────────────────────┼────────────────────────┼───────────────┤\n",
       "│ dense_1 (<span style=\"color: #0087ff; text-decoration-color: #0087ff\">Dense</span>)                 │ (<span style=\"color: #00d7ff; text-decoration-color: #00d7ff\">None</span>, <span style=\"color: #00af00; text-decoration-color: #00af00\">38</span>)             │        <span style=\"color: #00af00; text-decoration-color: #00af00\">19,494</span> │\n",
       "└─────────────────────────────────┴────────────────────────┴───────────────┘\n",
       "</pre>\n"
      ],
      "text/plain": [
       "┏━━━━━━━━━━━━━━━━━━━━━━━━━━━━━━━━━┳━━━━━━━━━━━━━━━━━━━━━━━━┳━━━━━━━━━━━━━━━┓\n",
       "┃\u001b[1m \u001b[0m\u001b[1mLayer (type)                   \u001b[0m\u001b[1m \u001b[0m┃\u001b[1m \u001b[0m\u001b[1mOutput Shape          \u001b[0m\u001b[1m \u001b[0m┃\u001b[1m \u001b[0m\u001b[1m      Param #\u001b[0m\u001b[1m \u001b[0m┃\n",
       "┡━━━━━━━━━━━━━━━━━━━━━━━━━━━━━━━━━╇━━━━━━━━━━━━━━━━━━━━━━━━╇━━━━━━━━━━━━━━━┩\n",
       "│ conv2d (\u001b[38;5;33mConv2D\u001b[0m)                 │ (\u001b[38;5;45mNone\u001b[0m, \u001b[38;5;34m64\u001b[0m, \u001b[38;5;34m64\u001b[0m, \u001b[38;5;34m16\u001b[0m)     │           \u001b[38;5;34m448\u001b[0m │\n",
       "├─────────────────────────────────┼────────────────────────┼───────────────┤\n",
       "│ conv2d_1 (\u001b[38;5;33mConv2D\u001b[0m)               │ (\u001b[38;5;45mNone\u001b[0m, \u001b[38;5;34m62\u001b[0m, \u001b[38;5;34m62\u001b[0m, \u001b[38;5;34m16\u001b[0m)     │         \u001b[38;5;34m2,320\u001b[0m │\n",
       "├─────────────────────────────────┼────────────────────────┼───────────────┤\n",
       "│ max_pooling2d (\u001b[38;5;33mMaxPooling2D\u001b[0m)    │ (\u001b[38;5;45mNone\u001b[0m, \u001b[38;5;34m31\u001b[0m, \u001b[38;5;34m31\u001b[0m, \u001b[38;5;34m16\u001b[0m)     │             \u001b[38;5;34m0\u001b[0m │\n",
       "├─────────────────────────────────┼────────────────────────┼───────────────┤\n",
       "│ conv2d_2 (\u001b[38;5;33mConv2D\u001b[0m)               │ (\u001b[38;5;45mNone\u001b[0m, \u001b[38;5;34m31\u001b[0m, \u001b[38;5;34m31\u001b[0m, \u001b[38;5;34m32\u001b[0m)     │         \u001b[38;5;34m4,640\u001b[0m │\n",
       "├─────────────────────────────────┼────────────────────────┼───────────────┤\n",
       "│ conv2d_3 (\u001b[38;5;33mConv2D\u001b[0m)               │ (\u001b[38;5;45mNone\u001b[0m, \u001b[38;5;34m29\u001b[0m, \u001b[38;5;34m29\u001b[0m, \u001b[38;5;34m32\u001b[0m)     │         \u001b[38;5;34m9,248\u001b[0m │\n",
       "├─────────────────────────────────┼────────────────────────┼───────────────┤\n",
       "│ max_pooling2d_1 (\u001b[38;5;33mMaxPooling2D\u001b[0m)  │ (\u001b[38;5;45mNone\u001b[0m, \u001b[38;5;34m14\u001b[0m, \u001b[38;5;34m14\u001b[0m, \u001b[38;5;34m32\u001b[0m)     │             \u001b[38;5;34m0\u001b[0m │\n",
       "├─────────────────────────────────┼────────────────────────┼───────────────┤\n",
       "│ flatten (\u001b[38;5;33mFlatten\u001b[0m)               │ (\u001b[38;5;45mNone\u001b[0m, \u001b[38;5;34m6272\u001b[0m)           │             \u001b[38;5;34m0\u001b[0m │\n",
       "├─────────────────────────────────┼────────────────────────┼───────────────┤\n",
       "│ dense (\u001b[38;5;33mDense\u001b[0m)                   │ (\u001b[38;5;45mNone\u001b[0m, \u001b[38;5;34m512\u001b[0m)            │     \u001b[38;5;34m3,211,776\u001b[0m │\n",
       "├─────────────────────────────────┼────────────────────────┼───────────────┤\n",
       "│ dropout (\u001b[38;5;33mDropout\u001b[0m)               │ (\u001b[38;5;45mNone\u001b[0m, \u001b[38;5;34m512\u001b[0m)            │             \u001b[38;5;34m0\u001b[0m │\n",
       "├─────────────────────────────────┼────────────────────────┼───────────────┤\n",
       "│ dense_1 (\u001b[38;5;33mDense\u001b[0m)                 │ (\u001b[38;5;45mNone\u001b[0m, \u001b[38;5;34m38\u001b[0m)             │        \u001b[38;5;34m19,494\u001b[0m │\n",
       "└─────────────────────────────────┴────────────────────────┴───────────────┘\n"
      ]
     },
     "metadata": {},
     "output_type": "display_data"
    },
    {
     "data": {
      "text/html": [
       "<pre style=\"white-space:pre;overflow-x:auto;line-height:normal;font-family:Menlo,'DejaVu Sans Mono',consolas,'Courier New',monospace\"><span style=\"font-weight: bold\"> Total params: </span><span style=\"color: #00af00; text-decoration-color: #00af00\">3,247,926</span> (12.39 MB)\n",
       "</pre>\n"
      ],
      "text/plain": [
       "\u001b[1m Total params: \u001b[0m\u001b[38;5;34m3,247,926\u001b[0m (12.39 MB)\n"
      ]
     },
     "metadata": {},
     "output_type": "display_data"
    },
    {
     "data": {
      "text/html": [
       "<pre style=\"white-space:pre;overflow-x:auto;line-height:normal;font-family:Menlo,'DejaVu Sans Mono',consolas,'Courier New',monospace\"><span style=\"font-weight: bold\"> Trainable params: </span><span style=\"color: #00af00; text-decoration-color: #00af00\">3,247,926</span> (12.39 MB)\n",
       "</pre>\n"
      ],
      "text/plain": [
       "\u001b[1m Trainable params: \u001b[0m\u001b[38;5;34m3,247,926\u001b[0m (12.39 MB)\n"
      ]
     },
     "metadata": {},
     "output_type": "display_data"
    },
    {
     "data": {
      "text/html": [
       "<pre style=\"white-space:pre;overflow-x:auto;line-height:normal;font-family:Menlo,'DejaVu Sans Mono',consolas,'Courier New',monospace\"><span style=\"font-weight: bold\"> Non-trainable params: </span><span style=\"color: #00af00; text-decoration-color: #00af00\">0</span> (0.00 B)\n",
       "</pre>\n"
      ],
      "text/plain": [
       "\u001b[1m Non-trainable params: \u001b[0m\u001b[38;5;34m0\u001b[0m (0.00 B)\n"
      ]
     },
     "metadata": {},
     "output_type": "display_data"
    }
   ],
   "source": [
    "model.summary()"
   ]
  },
  {
   "cell_type": "markdown",
   "id": "05061d67",
   "metadata": {},
   "source": [
    "## Training the Model"
   ]
  },
  {
   "cell_type": "code",
   "execution_count": 26,
   "id": "7e7b09ed",
   "metadata": {},
   "outputs": [
    {
     "name": "stdout",
     "output_type": "stream",
     "text": [
      "Epoch 1/10\n",
      "\u001b[1m2197/2197\u001b[0m \u001b[32m━━━━━━━━━━━━━━━━━━━━\u001b[0m\u001b[37m\u001b[0m \u001b[1m269s\u001b[0m 122ms/step - accuracy: 0.4480 - loss: 2.3064 - val_accuracy: 0.8047 - val_loss: 0.6259\n",
      "Epoch 2/10\n",
      "\u001b[1m2197/2197\u001b[0m \u001b[32m━━━━━━━━━━━━━━━━━━━━\u001b[0m\u001b[37m\u001b[0m \u001b[1m274s\u001b[0m 125ms/step - accuracy: 0.8105 - loss: 0.6135 - val_accuracy: 0.8801 - val_loss: 0.3813\n",
      "Epoch 3/10\n",
      "\u001b[1m2197/2197\u001b[0m \u001b[32m━━━━━━━━━━━━━━━━━━━━\u001b[0m\u001b[37m\u001b[0m \u001b[1m277s\u001b[0m 126ms/step - accuracy: 0.8787 - loss: 0.3860 - val_accuracy: 0.8791 - val_loss: 0.3862\n",
      "Epoch 4/10\n",
      "\u001b[1m2197/2197\u001b[0m \u001b[32m━━━━━━━━━━━━━━━━━━━━\u001b[0m\u001b[37m\u001b[0m \u001b[1m262s\u001b[0m 119ms/step - accuracy: 0.9029 - loss: 0.3003 - val_accuracy: 0.9085 - val_loss: 0.2896\n",
      "Epoch 5/10\n",
      "\u001b[1m2197/2197\u001b[0m \u001b[32m━━━━━━━━━━━━━━━━━━━━\u001b[0m\u001b[37m\u001b[0m \u001b[1m280s\u001b[0m 127ms/step - accuracy: 0.9260 - loss: 0.2323 - val_accuracy: 0.8957 - val_loss: 0.3502\n",
      "Epoch 6/10\n",
      "\u001b[1m2197/2197\u001b[0m \u001b[32m━━━━━━━━━━━━━━━━━━━━\u001b[0m\u001b[37m\u001b[0m \u001b[1m274s\u001b[0m 125ms/step - accuracy: 0.9372 - loss: 0.1934 - val_accuracy: 0.9144 - val_loss: 0.2922\n",
      "Epoch 7/10\n",
      "\u001b[1m2197/2197\u001b[0m \u001b[32m━━━━━━━━━━━━━━━━━━━━\u001b[0m\u001b[37m\u001b[0m \u001b[1m264s\u001b[0m 120ms/step - accuracy: 0.9451 - loss: 0.1708 - val_accuracy: 0.8842 - val_loss: 0.4147\n",
      "Epoch 8/10\n",
      "\u001b[1m2197/2197\u001b[0m \u001b[32m━━━━━━━━━━━━━━━━━━━━\u001b[0m\u001b[37m\u001b[0m \u001b[1m289s\u001b[0m 132ms/step - accuracy: 0.9483 - loss: 0.1579 - val_accuracy: 0.9195 - val_loss: 0.2988\n",
      "Epoch 9/10\n",
      "\u001b[1m2197/2197\u001b[0m \u001b[32m━━━━━━━━━━━━━━━━━━━━\u001b[0m\u001b[37m\u001b[0m \u001b[1m292s\u001b[0m 133ms/step - accuracy: 0.9574 - loss: 0.1330 - val_accuracy: 0.9141 - val_loss: 0.3296\n",
      "Epoch 10/10\n",
      "\u001b[1m2197/2197\u001b[0m \u001b[32m━━━━━━━━━━━━━━━━━━━━\u001b[0m\u001b[37m\u001b[0m \u001b[1m273s\u001b[0m 124ms/step - accuracy: 0.9606 - loss: 0.1260 - val_accuracy: 0.9116 - val_loss: 0.3525\n"
     ]
    }
   ],
   "source": [
    "training_history = model.fit(x=training_set, validation_data = validation_set, batch_size = 64, epochs=10)"
   ]
  },
  {
   "cell_type": "markdown",
   "id": "82241005",
   "metadata": {},
   "source": [
    "## Model Evaluation"
   ]
  },
  {
   "cell_type": "code",
   "execution_count": 27,
   "id": "5bca45e6",
   "metadata": {},
   "outputs": [
    {
     "name": "stdout",
     "output_type": "stream",
     "text": [
      "\u001b[1m2197/2197\u001b[0m \u001b[32m━━━━━━━━━━━━━━━━━━━━\u001b[0m\u001b[37m\u001b[0m \u001b[1m76s\u001b[0m 35ms/step - accuracy: 0.9898 - loss: 0.0313\n"
     ]
    }
   ],
   "source": [
    "#Model Evaluation on Training Set\n",
    "train_loss, train_accuracy = model.evaluate(training_set)"
   ]
  },
  {
   "cell_type": "code",
   "execution_count": 28,
   "id": "537326bd",
   "metadata": {},
   "outputs": [
    {
     "name": "stdout",
     "output_type": "stream",
     "text": [
      "0.026545338332653046 0.9914929866790771\n"
     ]
    }
   ],
   "source": [
    "print(train_loss, train_accuracy)"
   ]
  },
  {
   "cell_type": "code",
   "execution_count": 29,
   "id": "4b0ff334",
   "metadata": {},
   "outputs": [
    {
     "name": "stdout",
     "output_type": "stream",
     "text": [
      "\u001b[1m550/550\u001b[0m \u001b[32m━━━━━━━━━━━━━━━━━━━━\u001b[0m\u001b[37m\u001b[0m \u001b[1m19s\u001b[0m 35ms/step - accuracy: 0.9117 - loss: 0.3486\n"
     ]
    }
   ],
   "source": [
    "#Model Evaluation on Validation Set\n",
    "valid_loss, valid_accuracy = model.evaluate(validation_set)"
   ]
  },
  {
   "cell_type": "code",
   "execution_count": 30,
   "id": "bcd36848",
   "metadata": {},
   "outputs": [
    {
     "name": "stdout",
     "output_type": "stream",
     "text": [
      "0.35254666209220886 0.9115638732910156\n"
     ]
    }
   ],
   "source": [
    "print(valid_loss,valid_accuracy)"
   ]
  },
  {
   "cell_type": "markdown",
   "id": "39a9568e",
   "metadata": {},
   "source": [
    "## Saving Model"
   ]
  },
  {
   "cell_type": "code",
   "execution_count": 31,
   "id": "c912e060",
   "metadata": {},
   "outputs": [
    {
     "name": "stderr",
     "output_type": "stream",
     "text": [
      "WARNING:absl:You are saving your model as an HDF5 file via `model.save()` or `keras.saving.save_model(model)`. This file format is considered legacy. We recommend using instead the native Keras format, e.g. `model.save('my_model.keras')` or `keras.saving.save_model(model, 'my_model.keras')`. \n"
     ]
    }
   ],
   "source": [
    "model.save(\"trained_model.h5\")"
   ]
  },
  {
   "cell_type": "code",
   "execution_count": 32,
   "id": "f27d7875",
   "metadata": {},
   "outputs": [],
   "source": [
    "model.save(\"trained_model.keras\")"
   ]
  },
  {
   "cell_type": "code",
   "execution_count": 33,
   "id": "198a9e1e",
   "metadata": {},
   "outputs": [
    {
     "data": {
      "text/plain": [
       "{'accuracy': [0.6156056523323059,\n",
       "  0.8305853605270386,\n",
       "  0.8849847316741943,\n",
       "  0.9122412800788879,\n",
       "  0.9290703535079956,\n",
       "  0.9404509663581848,\n",
       "  0.9463404417037964,\n",
       "  0.9527135491371155,\n",
       "  0.956867516040802,\n",
       "  0.9606373310089111],\n",
       " 'loss': [1.37363862991333,\n",
       "  0.5447047352790833,\n",
       "  0.35914865136146545,\n",
       "  0.27220407128334045,\n",
       "  0.2179766744375229,\n",
       "  0.18383027613162994,\n",
       "  0.16569817066192627,\n",
       "  0.14451424777507782,\n",
       "  0.13449959456920624,\n",
       "  0.12528827786445618],\n",
       " 'val_accuracy': [0.8046892881393433,\n",
       "  0.8800933361053467,\n",
       "  0.8791258931159973,\n",
       "  0.9085476994514465,\n",
       "  0.8956863284111023,\n",
       "  0.9143523573875427,\n",
       "  0.8841907382011414,\n",
       "  0.9195310473442078,\n",
       "  0.9141247272491455,\n",
       "  0.9115638732910156],\n",
       " 'val_loss': [0.6259182095527649,\n",
       "  0.3813144266605377,\n",
       "  0.38620641827583313,\n",
       "  0.28959476947784424,\n",
       "  0.35015302896499634,\n",
       "  0.29219749569892883,\n",
       "  0.41469606757164,\n",
       "  0.29880058765411377,\n",
       "  0.32958462834358215,\n",
       "  0.35254624485969543]}"
      ]
     },
     "execution_count": 33,
     "metadata": {},
     "output_type": "execute_result"
    }
   ],
   "source": [
    "training_history.history"
   ]
  },
  {
   "cell_type": "code",
   "execution_count": 34,
   "id": "f94c4dce",
   "metadata": {},
   "outputs": [],
   "source": [
    "#Saving history in json\n",
    "import json\n",
    "with open(\"training_history.json\",\"w\") as f:\n",
    "    json.dump(training_history.history,f)"
   ]
  },
  {
   "cell_type": "markdown",
   "id": "734be117",
   "metadata": {},
   "source": [
    "### Accuracy Visualisation"
   ]
  },
  {
   "cell_type": "code",
   "execution_count": 37,
   "id": "4944295a",
   "metadata": {},
   "outputs": [
    {
     "data": {
      "text/plain": [
       "<matplotlib.legend.Legend at 0x175e99050>"
      ]
     },
     "execution_count": 37,
     "metadata": {},
     "output_type": "execute_result"
    },
    {
     "data": {
      "image/png": "[encoded data removed]",
      "text/plain": [
       "<Figure size 640x480 with 1 Axes>"
      ]
     },
     "metadata": {},
     "output_type": "display_data"
    }
   ],
   "source": [
    "epochs = [i for i in range(1,11)]\n",
    "plt.plot(epochs,training_history.history['accuracy'],color='blue',label='Training Accuracy')\n",
    "plt.plot(epochs,training_history.history['val_accuracy'],color='red',label='Validation Accuracy')\n",
    "plt.legend(loc=4)"
   ]
  },
  {
   "cell_type": "code",
   "execution_count": null,
   "id": "9b52d701",
   "metadata": {},
   "outputs": [],
   "source": []
  }
 ],
 "metadata": {
  "kernelspec": {
   "display_name": "Python 3 (ipykernel)",
   "language": "python",
   "name": "python3"
  },
  "language_info": {
   "codemirror_mode": {
    "name": "ipython",
    "version": 3
   },
   "file_extension": ".py",
   "mimetype": "text/x-python",
   "name": "python",
   "nbconvert_exporter": "python",
   "pygments_lexer": "ipython3",
   "version": "3.11.4"
  }
 },
 "nbformat": 4,
 "nbformat_minor": 5
}
